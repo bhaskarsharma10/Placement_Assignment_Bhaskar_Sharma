{
 "cells": [
  {
   "cell_type": "markdown",
   "id": "bd26ca39-439d-4f94-8e1b-b7015d15ff47",
   "metadata": {},
   "source": [
    "Answer 2"
   ]
  },
  {
   "cell_type": "code",
   "execution_count": null,
   "id": "63fee11b-da6a-405d-b471-714b2f72d13d",
   "metadata": {},
   "outputs": [],
   "source": [
    "string = input(\"Enter The String Required\")\n",
    "characters = []\n",
    "for stri in string:\n",
    "    characters.append(stri)\n",
    "    \n",
    "overall_count = {\n",
    "} # Dictionary to store the count of all charqcters\n",
    "character_unique = list(set(characters))\n",
    "# Count the frequency of each unique word\n",
    "for charact in character_unique:\n",
    "    count=0\n",
    "    for c in characters:\n",
    "        if charact==c:\n",
    "            count = count+1\n",
    "    overall_count[charact]=count\n",
    "\n",
    "\n",
    "a=False\n",
    "list_values=list(overall_count.values())\n",
    "list_values=sorted(list_values)\n",
    "length=list_values[-1]\n",
    "i=0\n",
    "try:\n",
    "    for i in range(int(length)):\n",
    "        if list_values[i+1]==list_values[i]:\n",
    "            a=True\n",
    "        elif list_values[i+1]-1==list_values[i]:\n",
    "            a=True\n",
    "        else:\n",
    "            a=False\n",
    "except:\n",
    "    if length == 1:\n",
    "        a=True\n",
    "\n",
    "if a==True:\n",
    "    print('YES')\n",
    "else:\n",
    "    print('NO')"
   ]
  },
  {
   "cell_type": "markdown",
   "id": "f4ca7359-cefb-4211-b3cf-3ec746eb269a",
   "metadata": {},
   "source": [
    "Test Case 1: \"aabbccddeeffgghhiijjkkllmmnnoopp\"  \n",
    "Output: YES  \n",
    "Test Case 2: \"aaaabbbbc\"  \n",
    "Output: YES  "
   ]
  }
 ],
 "metadata": {
  "kernelspec": {
   "display_name": "Python 3 (ipykernel)",
   "language": "python",
   "name": "python3"
  },
  "language_info": {
   "codemirror_mode": {
    "name": "ipython",
    "version": 3
   },
   "file_extension": ".py",
   "mimetype": "text/x-python",
   "name": "python",
   "nbconvert_exporter": "python",
   "pygments_lexer": "ipython3",
   "version": "3.10.6"
  }
 },
 "nbformat": 4,
 "nbformat_minor": 5
}
