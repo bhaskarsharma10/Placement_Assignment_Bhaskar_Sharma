{
 "cells": [
  {
   "cell_type": "markdown",
   "id": "551767d8-299b-4ac7-9e8e-d230e7c3fbf8",
   "metadata": {},
   "source": [
    "Answer 1"
   ]
  },
  {
   "cell_type": "code",
   "execution_count": null,
   "id": "cff22db7-57df-43a9-b0ab-3eb4e11852bc",
   "metadata": {},
   "outputs": [],
   "source": [
    "string = input(\"Enter string\")\n",
    "string=string.lower()\n",
    "word = \"\"\n",
    "words_list = []\n",
    "\n",
    "if string[-1]!=' ':\n",
    "    string=string+' '\n",
    "\n",
    "\n",
    "for i in range(len(string)):\n",
    "    if string[i]!=\" \":\n",
    "        word=word+string[i]\n",
    "    else:\n",
    "        string[i]==\" \"\n",
    "        words_list.append(word)\n",
    "        word = \"\"\n",
    "        \n",
    "overall_count = {\n",
    "} # Dictionary to store the count of all words\n",
    "words_unique = list(set(words_list))\n",
    "# Count the frequency of each unique word\n",
    "for word in words_unique:\n",
    "    count=0\n",
    "    for w in words_list:\n",
    "        if word==w:\n",
    "            count = count+1\n",
    "    overall_count[word]=count\n",
    "            \n",
    "# Extract words with the maximum length        \n",
    "highest_frequency=[]\n",
    "for key, value in overall_count.items():\n",
    "    if value==max(overall_count.values()):\n",
    "        highest_frequency.append(key)\n",
    "        \n",
    "highest_frequency.sort(key=lambda x: len(x),reverse=True)\n",
    "\n",
    "\n",
    "print(f'Length of Highest Frequency Word: {len(highest_frequency[0])}')"
   ]
  },
  {
   "cell_type": "markdown",
   "id": "f0865f48-bb51-4dfb-930f-c482c27b965d",
   "metadata": {},
   "source": [
    "Test Case 1: \"The quick brown fox jumps over the lazy dog. The lazy dog however doesn't care\"  \n",
    "Output: Length of Highest Frequency Word: 3  \n",
    "Test Case 2: \"Peter Piper picked a peck of pickled peppers, a peck of pickled peppers Peter Piper picked\"  \n",
    "Output: Length of Highest Frequency Word: 7  "
   ]
  },
  {
   "cell_type": "code",
   "execution_count": null,
   "id": "b6a64588-74f7-437b-bc45-7c858e0de7e0",
   "metadata": {},
   "outputs": [],
   "source": []
  }
 ],
 "metadata": {
  "kernelspec": {
   "display_name": "Python 3 (ipykernel)",
   "language": "python",
   "name": "python3"
  },
  "language_info": {
   "codemirror_mode": {
    "name": "ipython",
    "version": 3
   },
   "file_extension": ".py",
   "mimetype": "text/x-python",
   "name": "python",
   "nbconvert_exporter": "python",
   "pygments_lexer": "ipython3",
   "version": "3.10.6"
  }
 },
 "nbformat": 4,
 "nbformat_minor": 5
}
